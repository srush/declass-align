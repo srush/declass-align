{
 "metadata": {
  "name": ""
 },
 "nbformat": 3,
 "nbformat_minor": 0,
 "worksheets": [
  {
   "cells": [
    {
     "cell_type": "raw",
     "metadata": {},
     "source": [
      "Perform Topic Modelling on predicted redacted text using Text Baslines of Document Alignment model."
     ]
    },
    {
     "cell_type": "code",
     "collapsed": false,
     "input": [
      "%load_ext autoreload\n",
      "%autoreload 2"
     ],
     "language": "python",
     "metadata": {},
     "outputs": [],
     "prompt_number": 3
    },
    {
     "cell_type": "code",
     "collapsed": false,
     "input": [
      "import redact.baselines as baselines\n",
      "import redact.experiments\n",
      "from redact.data.human import *\n",
      "import redact.data.passwd as passwd"
     ],
     "language": "python",
     "metadata": {},
     "outputs": [],
     "prompt_number": 1
    },
    {
     "cell_type": "code",
     "collapsed": false,
     "input": [
      "db = passwd.get_db()\n",
      "cursor = passwd.get_cursor(db)\n",
      "all = HumanPair.get_all(cursor)"
     ],
     "language": "python",
     "metadata": {},
     "outputs": [],
     "prompt_number": 2
    },
    {
     "cell_type": "raw",
     "metadata": {},
     "source": [
      "Find the most common topics of the predicted redacted text."
     ]
    },
    {
     "cell_type": "code",
     "collapsed": false,
     "input": [
      "IMAGE_PATH = \"/media/sophie/Sophie Drive/images/Img/\"\n",
      "documents = []\n",
      "failed = []\n",
      "\n",
      "for i, a in enumerate(all):\n",
      "    try:\n",
      "        documents.append(baselines.make_docs(a, IMAGE_PATH))  \n",
      "    except Exception:\n",
      "        print \"fail\", i\n",
      "        failed.append(i)\n",
      "        pass"
     ],
     "language": "python",
     "metadata": {},
     "outputs": [
      {
       "output_type": "stream",
       "stream": "stdout",
       "text": [
        "fail 123\n"
       ]
      }
     ],
     "prompt_number": 4
    },
    {
     "cell_type": "raw",
     "metadata": {},
     "source": [
      "Now make the predictions, using the baseline Text Aligner."
     ]
    },
    {
     "cell_type": "code",
     "collapsed": false,
     "input": [
      "text_aligner = baselines.TextAligner()\n",
      "predictions = [text_aligner.align(p1, p2, i)\n",
      "                   for i, (p1, p2) in enumerate(documents)]\n",
      "# Each predicted redaction text will be \n",
      "# treated as a doc in the topic model\n",
      "predictions = [list(p) for p in predictions]\n",
      "predicted_text = [p.text for doc in predictions for p in doc]"
     ],
     "language": "python",
     "metadata": {},
     "outputs": [],
     "prompt_number": 5
    },
    {
     "cell_type": "raw",
     "metadata": {},
     "source": [
      "Now for the Topic Modelling:"
     ]
    },
    {
     "cell_type": "code",
     "collapsed": false,
     "input": [
      "import topicmodel.topicmodel as topicmodel"
     ],
     "language": "python",
     "metadata": {},
     "outputs": [],
     "prompt_number": 7
    },
    {
     "cell_type": "code",
     "collapsed": false,
     "input": [
      "m = topicmodel.TopicModel(predicted_text)\n",
      "lda = m.lda(20)\n",
      "for t in lda.show_topics(topics=20, topn=20):\n",
      "    print t\n",
      "    print"
     ],
     "language": "python",
     "metadata": {},
     "outputs": [
      {
       "output_type": "stream",
       "stream": "stderr",
       "text": [
        "WARNING:gensim.models.ldamodel:too few updates, training might not converge; consider increasing the number of passes or iterations to improve accuracy\n"
       ]
      },
      {
       "output_type": "stream",
       "stream": "stdout",
       "text": [
        "0.020*secretary + 0.018*kissinger + 0.018*m + 0.017*p + 0.017*white + 0.013*bundy + 0.013*ea + 0.013*z + 0.012*r + 0.012*meeting + 0.012*law + 0.012*dr + 0.012*sent + 0.012*date + 0.012*made + 0.010*house + 0.009*fm + 0.009*defense + 0.008*observed + 0.008*july\n",
        "\n",
        "0.015*involved + 0.013*may + 0.013*soviet + 0.013*state + 0.013*action + 0.013*amembassy + 0.013*sent + 0.013*vientiane + 0.013*moscow + 0.013*satellite + 0.013*great + 0.013*countries + 0.013*confirmed + 0.012*refugees + 0.009*persons + 0.007*another + 0.007*communist + 0.007*peoples + 0.007*minister + 0.007*tran\n",
        "\n",
        "0.031*intelligence + 0.013*government + 0.013*organized + 0.012*refugees + 0.010*support + 0.010*base + 0.010*effort + 0.010*director + 0.010*e + 0.010*phase + 0.010*problem + 0.009*united + 0.009*world + 0.009*b + 0.009*international + 0.008*states + 0.008*committee + 0.008*economic + 0.007*war + 0.007*political\n",
        "\n",
        "0.025*president + 0.019*page + 0.018*dulles + 0.016*secretary + 0.015*general + 0.015*study + 0.015*war + 0.013*asked + 0.013*e + 0.012*limited + 0.011*whether + 0.010*recommendations + 0.010*report + 0.010*make + 0.010*action + 0.009*c + 0.009*support + 0.009*help + 0.008*continuing + 0.008*british\n",
        "\n",
        "0.023*president + 0.019*french + 0.017*page + 0.015*meeting + 0.014*capabilities + 0.014*nato + 0.013*council + 0.012*probably + 0.012*british + 0.011*report + 0.009*soviet + 0.009*action + 0.008*yet + 0.008*asked + 0.008*members + 0.008*two + 0.008*far + 0.008*added + 0.008*march + 0.007*selwyn\n",
        "\n",
        "0.029*part + 0.013*atomic + 0.013*special + 0.012*national + 0.012*soviet + 0.012*policy + 0.012*may + 0.011*drv + 0.011*embassy + 0.010*security + 0.009*china + 0.008*soviets + 0.008*see + 0.008*text + 0.008*paper + 0.008*official + 0.008*group + 0.008*foreign + 0.008*office + 0.008*political\n",
        "\n",
        "0.032*united + 0.031*states + 0.024*recognized + 0.022*communist + 0.021*shah + 0.017*one + 0.016*governments + 0.015*situation + 0.013*power + 0.012*take + 0.010*people + 0.010*party + 0.010*see + 0.009*president + 0.009*iran + 0.009*received + 0.009*iranian + 0.009*report + 0.009*money + 0.008*government\n",
        "\n",
        "0.032*president + 0.020*united + 0.017*states + 0.017*mccone + 0.016*asked + 0.013*british + 0.010*countries + 0.010*foreign + 0.010*china + 0.010*identified + 0.010*future + 0.010*pay + 0.009*secretary + 0.009*situation + 0.009*thought + 0.008*government + 0.007*military + 0.007*problem + 0.007*magnitude + 0.007*chinese\n",
        "\n",
        "0.023*british + 0.018*position + 0.013*might + 0.013*military + 0.010*secretary + 0.010*weapons + 0.009*president + 0.009*use + 0.008*put + 0.008*result + 0.008*idea + 0.008*planning + 0.007*special + 0.007*making + 0.007*done + 0.007*nato + 0.007*action + 0.007*felt + 0.007*perhaps + 0.007*spaak\n",
        "\n",
        "0.027*british + 0.020*nuclear + 0.016*united + 0.014*dulles + 0.011*secretary + 0.010*however + 0.009*weapons + 0.009*future + 0.009*rapid + 0.009*states + 0.008*general + 0.008*position + 0.007*problem + 0.007*military + 0.007*committee + 0.007*n + 0.007*d + 0.007*secret + 0.007*fertilizer + 0.007*russian\n",
        "\n",
        "0.033*states + 0.025*united + 0.014*base + 0.012*american + 0.011*stassen + 0.011*castro + 0.011*cuba + 0.011*intervene + 0.010*speech + 0.009*might + 0.009*years + 0.009*toward + 0.009*shah + 0.007*situation + 0.007*ago + 0.007*subversive + 0.007*propaganda + 0.007*government + 0.007*follow + 0.007*respect\n",
        "\n",
        "0.017*labor + 0.014*say + 0.014*forces + 0.014*support + 0.013*force + 0.013*military + 0.012*turkish + 0.011*may + 0.010*one + 0.010*dr + 0.010*difficulties + 0.010*special + 0.010*enemy + 0.010*secret + 0.009*current + 0.009*communist + 0.009*another + 0.007*limitations + 0.007*light + 0.007*given\n",
        "\n",
        "0.016*government + 0.016*military + 0.013*present + 0.013*united + 0.012*states + 0.010*force + 0.010*time + 0.010*turkish + 0.010*support + 0.009*countries + 0.009*dulles + 0.009*soviet + 0.009*text + 0.009*respect + 0.009*laos + 0.009*illegible + 0.009*geneva + 0.009*needs + 0.009*may + 0.009*seem\n",
        "\n",
        "0.014*say + 0.013*iraq + 0.012*soviet + 0.012*stated + 0.012*communist + 0.012*government + 0.011*believe + 0.011*prospects + 0.009*party + 0.009*committee + 0.009*w + 0.009*pro + 0.009*state + 0.008*states + 0.008*united + 0.008*outlook + 0.008*dated + 0.008*iran + 0.008*iranian + 0.008*president\n",
        "\n",
        "0.027*illegible + 0.026*ea + 0.026*text + 0.017*president + 0.014*view + 0.013*japan + 0.010*british + 0.009*policy + 0.008*course + 0.007*secretary + 0.007*dod + 0.007*state + 0.007*report + 0.007*mrs + 0.007*nuclear + 0.007*telegraphic + 0.007*classification + 0.007*drafted + 0.007*tel + 0.007*threat\n",
        "\n",
        "0.026*secretary + 0.020*dulles + 0.020*british + 0.015*position + 0.013*study + 0.011*washington + 0.011*observed + 0.011*situation + 0.011*personnel + 0.009*area + 0.008*k + 0.008*point + 0.008*meeting + 0.007*clearly + 0.007*man + 0.007*decline + 0.007*weapons + 0.007*desirable + 0.007*system + 0.006*relative\n",
        "\n",
        "0.037*illegible + 0.037*text + 0.019*military + 0.012*may + 0.012*defense + 0.011*nato + 0.011*z + 0.009*government + 0.008*soviet + 0.008*recommend + 0.007*johnson + 0.007*system + 0.007*dated + 0.007*iran + 0.007*outlook + 0.007*prospects + 0.007*l + 0.007*n + 0.007*joint + 0.007*control\n",
        "\n",
        "0.018*secretary + 0.017*government + 0.012*much + 0.012*text + 0.012*illegible + 0.012*may + 0.011*new + 0.009*probably + 0.009*war + 0.009*israeli + 0.009*situation + 0.009*commission + 0.009*directing + 0.009*say + 0.009*position + 0.009*radio + 0.007*states + 0.007*united + 0.006*countries + 0.006*ambassador\n",
        "\n",
        "0.015*cia + 0.013*state + 0.013*dia + 0.012*present + 0.012*teams + 0.012*various + 0.012*possible + 0.012*courses + 0.012*already + 0.012*organization + 0.012*one + 0.012*limit + 0.012*french + 0.011*j + 0.011*two + 0.010*page + 0.010*b + 0.009*de + 0.008*house + 0.008*white\n",
        "\n",
        "0.018*told + 0.017*soviet + 0.013*actions + 0.012*president + 0.012*secret + 0.011*c + 0.009*war + 0.009*know + 0.009*yemen + 0.009*nasser + 0.009*e + 0.009*specific + 0.008*say + 0.008*place + 0.008*present + 0.008*union + 0.007*better + 0.007*facts + 0.006*washington + 0.006*director\n",
        "\n"
       ]
      }
     ],
     "prompt_number": 10
    },
    {
     "cell_type": "code",
     "collapsed": false,
     "input": [],
     "language": "python",
     "metadata": {},
     "outputs": []
    }
   ],
   "metadata": {}
  }
 ]
}