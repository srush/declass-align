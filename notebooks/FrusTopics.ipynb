{
 "metadata": {
  "name": ""
 },
 "nbformat": 3,
 "nbformat_minor": 0,
 "worksheets": [
  {
   "cells": [
    {
     "cell_type": "code",
     "collapsed": false,
     "input": [
      "%load_ext autoreload\n",
      "%autoreload 2"
     ],
     "language": "python",
     "metadata": {},
     "outputs": [
      {
       "output_type": "stream",
       "stream": "stdout",
       "text": [
        "The autoreload extension is already loaded. To reload it, use:\n",
        "  %reload_ext autoreload\n"
       ]
      }
     ],
     "prompt_number": 26
    },
    {
     "cell_type": "code",
     "collapsed": false,
     "input": [
      "import topicmodel.frus as frus\n",
      "import topicmodel.topicmodel as topicmodel"
     ],
     "language": "python",
     "metadata": {},
     "outputs": [],
     "prompt_number": 27
    },
    {
     "cell_type": "raw",
     "metadata": {},
     "source": [
      "Fetch frus documents"
     ]
    },
    {
     "cell_type": "code",
     "collapsed": false,
     "input": [
      "texts = frus.get_texts()\n",
      "len(texts) # Number of FRUS documents"
     ],
     "language": "python",
     "metadata": {},
     "outputs": [],
     "prompt_number": 28
    },
    {
     "cell_type": "raw",
     "metadata": {},
     "source": [
      "Get the paragraphs which contain the redactions,\n",
      "and remove the redaction markings"
     ]
    },
    {
     "cell_type": "code",
     "collapsed": false,
     "input": [
      "paras = frus.get_para(texts) # Get paragraphs surrounding redactions.\n",
      "context = frus.get_surround(paras)\n",
      "len(context) # Number of paragraphs with redactions in them."
     ],
     "language": "python",
     "metadata": {},
     "outputs": [
      {
       "metadata": {},
       "output_type": "pyout",
       "prompt_number": 56,
       "text": [
        "4466"
       ]
      }
     ],
     "prompt_number": 56
    },
    {
     "cell_type": "raw",
     "metadata": {},
     "source": [
      "Run LDA on these texts"
     ]
    },
    {
     "cell_type": "code",
     "collapsed": false,
     "input": [
      "m = topicmodel.TopicModel(context)"
     ],
     "language": "python",
     "metadata": {},
     "outputs": [],
     "prompt_number": 75
    },
    {
     "cell_type": "code",
     "collapsed": false,
     "input": [
      "lda = m.lda(20)"
     ],
     "language": "python",
     "metadata": {},
     "outputs": [
      {
       "output_type": "stream",
       "stream": "stderr",
       "text": [
        "WARNING:gensim.models.ldamodel:too few updates, training might not converge; consider increasing the number of passes or iterations to improve accuracy\n"
       ]
      }
     ],
     "prompt_number": 76
    },
    {
     "cell_type": "code",
     "collapsed": false,
     "input": [
      "for t in lda.show_topics(topics=20, topn=20):\n",
      "    print t\n",
      "    print"
     ],
     "language": "python",
     "metadata": {},
     "outputs": [
      {
       "output_type": "stream",
       "stream": "stdout",
       "text": [
        "0.011*military + 0.011*president + 0.007*security + 0.007*program + 0.005*support + 0.005*united + 0.005*mexico + 0.005*states + 0.004*intelligence + 0.004*assessment + 0.004*time + 0.004*may + 0.004*diplomatic + 0.004*possible + 0.004*figueres + 0.004*national + 0.004*assistance + 0.004*study + 0.004*situation + 0.003*noted\n",
        "\n",
        "0.008*state + 0.008*hassan + 0.007*nuclear + 0.007*government + 0.006*stations + 0.006*dominican + 0.005*program + 0.005*subject + 0.005*department + 0.005*committee + 0.005*military + 0.005*operations + 0.004*president + 0.004*c + 0.004*national + 0.004*agreement + 0.004*august + 0.004*requested + 0.004*support + 0.004*burnham\n",
        "\n",
        "0.011*tab + 0.011*coup + 0.008*facility + 0.007*terrorists + 0.007*cia + 0.007*b + 0.007*may + 0.006*group + 0.006*islands + 0.005*one + 0.005*might + 0.005*ara + 0.005*kagnew + 0.004*state + 0.004*soviet + 0.004*military + 0.004*probably + 0.004*force + 0.004*possible + 0.004*development\n",
        "\n",
        "0.015*intelligence + 0.007*agency + 0.007*report + 0.006*cia + 0.006*central + 0.005*may + 0.005*usg + 0.005*office + 0.005*general + 0.005*government + 0.005*reports + 0.004*security + 0.004*army + 0.004*source + 0.004*national + 0.004*foreign + 0.004*support + 0.004*issue + 0.004*military + 0.004*political\n",
        "\n",
        "0.007*military + 0.006*north + 0.006*dominican + 0.006*forces + 0.005*korean + 0.005*april + 0.005*former + 0.005*president + 0.005*release + 0.004*exile + 0.004*leader + 0.004*anti + 0.004*coalition + 0.004*radio + 0.004*period + 0.004*time + 0.004*activities + 0.004*soviet + 0.004*january + 0.004*described\n",
        "\n",
        "0.040*burnham + 0.014*nuclear + 0.007*soviet + 0.007*new + 0.006*weapons + 0.006*systems + 0.006*test + 0.005*time + 0.005*none + 0.005*forces + 0.005*soviets + 0.005*defense + 0.005*may + 0.005*pakistan + 0.004*pnc + 0.004*intelligence + 0.004*dick + 0.004*probably + 0.004*testing + 0.004*apart\n",
        "\n",
        "0.010*military + 0.009*facilities + 0.009*communications + 0.008*kagnew + 0.007*personnel + 0.006*activities + 0.006*new + 0.006*security + 0.006*army + 0.005*states + 0.005*intelligence + 0.005*united + 0.004*presence + 0.004*base + 0.004*important + 0.004*effort + 0.004*staff + 0.004*termination + 0.004*time + 0.004*support\n",
        "\n",
        "0.009*president + 0.005*may + 0.005*situation + 0.004*honduras + 0.004*lee + 0.004*paper + 0.004*however + 0.004*makarios + 0.004*two + 0.004*flight + 0.004*soviet + 0.003*information + 0.003*singapore + 0.003*involved + 0.003*next + 0.003*years + 0.003*government + 0.003*radical + 0.003*payment + 0.003*called\n",
        "\n",
        "0.016*cia + 0.013*support + 0.008*memorandum + 0.007*panama + 0.007*committee + 0.006*program + 0.006*year + 0.005*files + 0.005*action + 0.005*haitian + 0.005*duvalier + 0.005*national + 0.005*cuban + 0.005*department + 0.005*government + 0.005*march + 0.005*state + 0.005*habib + 0.004*time + 0.004*political\n",
        "\n",
        "0.014*indian + 0.012*morocco + 0.008*prisoners + 0.007*z + 0.005*plot + 0.005*attempt + 0.005*already + 0.004*facilities + 0.004*iran + 0.004*communications + 0.004*assassination + 0.004*moroccan + 0.004*time + 0.004*internal + 0.004*shah + 0.004*may + 0.003*kagnew + 0.003*reported + 0.003*president + 0.003*traffic\n",
        "\n",
        "0.013*secretary + 0.009*helms + 0.008*one + 0.007*president + 0.007*state + 0.007*department + 0.007*general + 0.005*colby + 0.005*sent + 0.005*intelligence + 0.004*situation + 0.004*asked + 0.004*military + 0.004*berlin + 0.004*report + 0.004*two + 0.004*policy + 0.004*issue + 0.004*study + 0.003*play\n",
        "\n",
        "0.015*godr + 0.010*balaguer + 0.006*president + 0.006*organizational + 0.005*soviet + 0.005*bush + 0.005*gen + 0.005*rural + 0.005*support + 0.004*six + 0.004*new + 0.004*use + 0.004*information + 0.004*walters + 0.004*acq + 0.004*government + 0.004*lt + 0.004*committee + 0.004*political + 0.004*torrijos\n",
        "\n",
        "0.007*general + 0.005*states + 0.005*government + 0.005*july + 0.005*military + 0.005*party + 0.004*campaign + 0.004*french + 0.004*tdcs + 0.004*united + 0.004*president + 0.004*retain + 0.004*figueres + 0.004*two + 0.004*communist + 0.004*political + 0.004*support + 0.003*embassy + 0.003*since + 0.003*one\n",
        "\n",
        "0.009*minister + 0.008*national + 0.008*files + 0.008*elections + 0.007*ambassador + 0.007*ibid + 0.007*secretary + 0.006*cia + 0.006*source + 0.006*ethiopia + 0.006*prime + 0.005*johnson + 0.005*secret + 0.005*million + 0.005*june + 0.005*political + 0.005*year + 0.004*memorandum + 0.004*aid + 0.004*assistance\n",
        "\n",
        "0.017*figueres + 0.011*intelligence + 0.010*nixon + 0.007*marcos + 0.007*activities + 0.006*president + 0.005*cia + 0.005*helms + 0.004*report + 0.004*soviet + 0.004*budget + 0.004*summary + 0.004*rtg + 0.004*information + 0.004*review + 0.004*dissem + 0.004*operations + 0.004*basis + 0.004*false + 0.003*field\n",
        "\n",
        "0.011*military + 0.008*mobutu + 0.007*government + 0.006*president + 0.005*relations + 0.005*support + 0.005*chinese + 0.005*force + 0.005*arms + 0.004*communist + 0.004*indian + 0.004*army + 0.004*general + 0.004*might + 0.004*action + 0.004*berlin + 0.004*shah + 0.004*several + 0.004*advisors + 0.004*however\n",
        "\n",
        "0.012*ambassador + 0.012*thai + 0.010*kissinger + 0.008*costa + 0.007*oas + 0.007*reports + 0.006*information + 0.006*meeting + 0.006*week + 0.006*general + 0.006*rica + 0.005*loan + 0.005*admiral + 0.005*farland + 0.005*however + 0.005*made + 0.005*report + 0.004*goi + 0.004*aircraft + 0.004*received\n",
        "\n",
        "0.010*torrijos + 0.009*libya + 0.008*president + 0.006*air + 0.006*one + 0.006*military + 0.005*stated + 0.005*go + 0.005*canal + 0.005*soviet + 0.005*secretary + 0.004*zone + 0.004*cuba + 0.004*force + 0.004*indonesian + 0.004*situation + 0.004*get + 0.004*naval + 0.004*aircraft + 0.004*possible\n",
        "\n",
        "0.021*government + 0.013*political + 0.009*subsidy + 0.006*military + 0.006*party + 0.006*regime + 0.006*bolivia + 0.005*two + 0.005*may + 0.004*time + 0.004*made + 0.004*might + 0.004*election + 0.004*one + 0.004*gog + 0.003*action + 0.003*plotting + 0.003*making + 0.003*pnc + 0.003*possible\n",
        "\n",
        "0.006*believe + 0.006*angola + 0.006*forces + 0.005*soviet + 0.005*may + 0.005*monthly + 0.004*might + 0.004*professional + 0.004*military + 0.004*date + 0.004*term + 0.003*goes + 0.003*years + 0.003*decision + 0.003*appear + 0.003*show + 0.003*indonesia + 0.003*portuguese + 0.003*operate + 0.003*however\n",
        "\n"
       ]
      }
     ],
     "prompt_number": 78
    },
    {
     "cell_type": "code",
     "collapsed": false,
     "input": [],
     "language": "python",
     "metadata": {},
     "outputs": []
    }
   ],
   "metadata": {}
  }
 ]
}