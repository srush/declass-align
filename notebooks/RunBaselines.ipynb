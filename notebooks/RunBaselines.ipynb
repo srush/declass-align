{
 "metadata": {
  "name": ""
 },
 "nbformat": 3,
 "nbformat_minor": 0,
 "worksheets": [
  {
   "cells": [
    {
     "cell_type": "code",
     "collapsed": false,
     "input": [
      "import redact.baselines as baselines\n",
      "import redact.experiments\n",
      "import matplotlib.pyplot as plt\n",
      "import cv2\n",
      "import numpy as np\n",
      "import redact.images as im\n",
      "import redact.experiments as ex\n",
      "from redact.progress import ProgressBar"
     ],
     "language": "python",
     "outputs": [
      {
       "output_type": "stream",
       "stream": "stdout",
       "text": [
        "\n"
       ]
      }
     ],
     "prompt_number": 87
    },
    {
     "cell_type": "code",
     "collapsed": false,
     "input": [
      "reload(redact.progress)"
     ],
     "language": "python",
     "outputs": [
      {
       "output_type": "pyout",
       "prompt_number": 89,
       "text": [
        "<module 'redact.progress' from '/home/srush/Projects/declass-align/redact/progress.pyc'>"
       ]
      }
     ],
     "prompt_number": 89
    },
    {
     "cell_type": "code",
     "collapsed": false,
     "input": [
      "reload(baselines)"
     ],
     "language": "python",
     "outputs": [
      {
       "output_type": "pyout",
       "prompt_number": 55,
       "text": [
        "<module 'redact.baselines' from '/home/srush/Projects/declass-align/redact/baselines.pyc'>"
       ]
      }
     ],
     "prompt_number": 55
    },
    {
     "cell_type": "code",
     "collapsed": false,
     "input": [
      "from redact.data.human import * \n",
      "import redact.data.passwd as passwd\n",
      "db = passwd.get_db()\n",
      "cursor = passwd.get_cursor(db)\n",
      "all = HumanPair.get_all(cursor)"
     ],
     "language": "python",
     "outputs": [],
     "prompt_number": 2
    },
    {
     "cell_type": "markdown",
     "source": [
      "This one is slow so we add a progress bar."
     ]
    },
    {
     "cell_type": "code",
     "collapsed": false,
     "input": [
      "p = ProgressBar(len(all))\n",
      "documents = []\n",
      "for i, a in enumerate(all):\n",
      "    p.animate(i)\n",
      "    try:\n",
      "        documents.append(baselines.make_docs(a))\n",
      "    except Exception:\n",
      "        print \"fail\", i\n",
      "        pass"
     ],
     "language": "python",
     "outputs": [
      {
       "output_type": "stream",
       "stream": "stdout",
       "text": [
        "\r",
        " [                       0%                       ]"
       ]
      }
     ],
     "prompt_number": "*"
    },
    {
     "cell_type": "markdown",
     "source": [
      "Collect the set of gold predictions."
     ]
    },
    {
     "cell_type": "code",
     "collapsed": false,
     "input": [
      "gold_predictions = []\n",
      "for predictions in baselines.make_gold_predictions(all):\n",
      "    gold_predictions.append(predictions)"
     ],
     "language": "python",
     "outputs": [],
     "prompt_number": 42
    },
    {
     "cell_type": "markdown",
     "source": [
      "Construct our text predictions."
     ]
    },
    {
     "cell_type": "code",
     "collapsed": false,
     "input": [
      "text_aligner = baselines.TextAligner()\n",
      "text_predictions = [text_aligner.align(p1, p2, i)\n",
      "                    for i, (p1, p2) in enumerate(documents)]"
     ],
     "language": "python",
     "outputs": [],
     "prompt_number": 63
    },
    {
     "cell_type": "code",
     "collapsed": false,
     "input": [
      "fscore = ex.FScore(wrapper=baselines.PredictionText, name=\"TextMatch\")\n",
      "fscore.from_sets(gold_predictions, text_predictions)"
     ],
     "language": "python",
     "outputs": []
    },
    {
     "cell_type": "code",
     "collapsed": false,
     "input": [
      "ex.FScore.make_pandas_table([fscore])"
     ],
     "language": "python",
     "outputs": []
    }
   ]
  }
 ]
}